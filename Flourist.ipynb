{
 "cells": [
  {
   "cell_type": "code",
   "execution_count": 1,
   "metadata": {},
   "outputs": [],
   "source": [
    "import sys"
   ]
  },
  {
   "cell_type": "code",
   "execution_count": 2,
   "metadata": {},
   "outputs": [],
   "source": [
    "for line in sys.stdin:\n",
    "    if 'q' == line.rstrip():\n",
    "        break\n",
    "    print(f'Input = {line}')"
   ]
  },
  {
   "cell_type": "code",
   "execution_count": 9,
   "metadata": {},
   "outputs": [
    {
     "name": "stdout",
     "output_type": "stream",
     "text": [
      "Enter the designs of the BoquetAs2a2b3 BL2a2\n"
     ]
    }
   ],
   "source": [
    "boquet = input('Enter the designs of the Boquet')"
   ]
  },
  {
   "cell_type": "code",
   "execution_count": 11,
   "metadata": {},
   "outputs": [],
   "source": [
    "boquet = boquet.split()"
   ]
  },
  {
   "cell_type": "code",
   "execution_count": 12,
   "metadata": {},
   "outputs": [
    {
     "data": {
      "text/plain": [
       "['As2a2b3', 'BL2a2']"
      ]
     },
     "execution_count": 12,
     "metadata": {},
     "output_type": "execute_result"
    }
   ],
   "source": [
    "boquet"
   ]
  },
  {
   "cell_type": "code",
   "execution_count": 13,
   "metadata": {},
   "outputs": [
    {
     "data": {
      "text/plain": [
       "'BL2a2'"
      ]
     },
     "execution_count": 13,
     "metadata": {},
     "output_type": "execute_result"
    }
   ],
   "source": [
    "boquet[1]"
   ]
  },
  {
   "cell_type": "code",
   "execution_count": 14,
   "metadata": {},
   "outputs": [
    {
     "name": "stdout",
     "output_type": "stream",
     "text": [
      "As2a2b3\n",
      "BL2a2\n"
     ]
    }
   ],
   "source": [
    "for i in boquet:\n",
    "    print(i)"
   ]
  },
  {
   "cell_type": "code",
   "execution_count": 23,
   "metadata": {},
   "outputs": [
    {
     "name": "stdout",
     "output_type": "stream",
     "text": [
      "Enter the designs of the BoquetAS2a2b3\n",
      "Enter the designs of the BoquetBL2a2\n",
      "Enter the designs of the Boquetq\n"
     ]
    }
   ],
   "source": [
    "i = 'start'\n",
    "while i != 'q':\n",
    "    i = input('Enter the designs of the Boquet')\n",
    "    if i != 'q':\n",
    "        boquet.append(i)"
   ]
  },
  {
   "cell_type": "code",
   "execution_count": 24,
   "metadata": {},
   "outputs": [
    {
     "data": {
      "text/plain": [
       "['As2a2b3', 'BL2a2', 'i', 'i', 'i', 'AS2a2b3', 'BL2a2', 'q']"
      ]
     },
     "execution_count": 24,
     "metadata": {},
     "output_type": "execute_result"
    }
   ],
   "source": [
    "boquet"
   ]
  },
  {
   "cell_type": "code",
   "execution_count": 22,
   "metadata": {},
   "outputs": [
    {
     "data": {
      "text/plain": [
       "'q'"
      ]
     },
     "execution_count": 22,
     "metadata": {},
     "output_type": "execute_result"
    }
   ],
   "source": [
    "i"
   ]
  },
  {
   "cell_type": "code",
   "execution_count": 33,
   "metadata": {},
   "outputs": [],
   "source": [
    "boquet.remove('As2a2b3')"
   ]
  },
  {
   "cell_type": "code",
   "execution_count": 34,
   "metadata": {},
   "outputs": [
    {
     "data": {
      "text/plain": [
       "['BL2a2', 'AS2a2b3', 'BL2a2']"
      ]
     },
     "execution_count": 34,
     "metadata": {},
     "output_type": "execute_result"
    }
   ],
   "source": [
    "boquet"
   ]
  },
  {
   "cell_type": "code",
   "execution_count": 35,
   "metadata": {},
   "outputs": [],
   "source": [
    "uboquet = set(boquet)   #Will convert the list of boquets to a set thus eliminating repetative boquets"
   ]
  },
  {
   "cell_type": "code",
   "execution_count": 36,
   "metadata": {},
   "outputs": [
    {
     "data": {
      "text/plain": [
       "{'AS2a2b3', 'BL2a2'}"
      ]
     },
     "execution_count": 36,
     "metadata": {},
     "output_type": "execute_result"
    }
   ],
   "source": [
    "uboquet"
   ]
  },
  {
   "cell_type": "code",
   "execution_count": 65,
   "metadata": {},
   "outputs": [],
   "source": [
    "flowers = {}"
   ]
  },
  {
   "cell_type": "code",
   "execution_count": 66,
   "metadata": {},
   "outputs": [
    {
     "name": "stdout",
     "output_type": "stream",
     "text": [
      "Enter the flower and its size : aS\n",
      "Enter the flower and its size : aL\n",
      "Enter the flower and its size : aS\n",
      "Enter the flower and its size : aS\n",
      "Enter the flower and its size : aL\n",
      "Enter the flower and its size : bS\n",
      "Enter the flower and its size : bS\n",
      "Enter the flower and its size : q\n"
     ]
    }
   ],
   "source": [
    "i = 'start'\n",
    "while i != 'q':\n",
    "    i = input('Enter the flower and its size : ')\n",
    "    if i == 'q':\n",
    "        break\n",
    "    if i in flowers.keys():\n",
    "        flowers[i] = flowers[i] + 1\n",
    "    else:\n",
    "        flowers[i] = 1"
   ]
  },
  {
   "cell_type": "code",
   "execution_count": 67,
   "metadata": {},
   "outputs": [
    {
     "data": {
      "text/plain": [
       "{'aS': 3, 'aL': 2, 'bS': 2}"
      ]
     },
     "execution_count": 67,
     "metadata": {},
     "output_type": "execute_result"
    }
   ],
   "source": [
    "flowers"
   ]
  },
  {
   "cell_type": "code",
   "execution_count": 68,
   "metadata": {},
   "outputs": [],
   "source": [
    "small_flowers = {}\n",
    "large_flowers = {}"
   ]
  },
  {
   "cell_type": "code",
   "execution_count": 69,
   "metadata": {},
   "outputs": [],
   "source": [
    "for key in flowers.keys():\n",
    "    if key[1] == 'S':\n",
    "        small_flowers[key[0]] =flowers[key]\n",
    "    elif key[1] == 'L':\n",
    "        large_flowers[key[0]] = flowers[key]\n",
    "    else:\n",
    "        continue"
   ]
  },
  {
   "cell_type": "code",
   "execution_count": 70,
   "metadata": {},
   "outputs": [
    {
     "data": {
      "text/plain": [
       "{'a': 3, 'b': 2}"
      ]
     },
     "execution_count": 70,
     "metadata": {},
     "output_type": "execute_result"
    }
   ],
   "source": [
    "small_flowers"
   ]
  },
  {
   "cell_type": "code",
   "execution_count": 71,
   "metadata": {},
   "outputs": [
    {
     "data": {
      "text/plain": [
       "{'a': 2}"
      ]
     },
     "execution_count": 71,
     "metadata": {},
     "output_type": "execute_result"
    }
   ],
   "source": [
    "large_flowers"
   ]
  },
  {
   "cell_type": "code",
   "execution_count": 84,
   "metadata": {},
   "outputs": [
    {
     "name": "stdout",
     "output_type": "stream",
     "text": [
      "{'a': '2'}\n",
      "Boquet name is :- B\n",
      "flower size is :- L\n",
      "the total number of flowers is :- 2\n",
      "Length of boquet is 5\n",
      "f and q = :-2a\n",
      "{'a': '2'}\n",
      "{'a': '2', 'b': '2'}\n",
      "Boquet name is :- A\n",
      "flower size is :- S\n",
      "the total number of flowers is :- 3\n",
      "Length of boquet is 7\n",
      "f and q = :-2a2b\n"
     ]
    }
   ],
   "source": [
    "boq_name = ''\n",
    "flower_size = ''\n",
    "total_quant = 0\n",
    "\n",
    "for boq in uboquet:\n",
    "    boq_name = boq[0]\n",
    "    flower_size = boq[1]\n",
    "    total_quant = boq[-1]\n",
    "    length = len(boq)\n",
    "    f_and_q = boq[2:-1]                            #Flowers and Quantity\n",
    "    flowers_added = 0                              #Flowers added in the boquet\n",
    "    boq_gen = False                                #If the boquet is generated\n",
    "    \n",
    "    if flower_size == 'L':\n",
    "        boq_inprocess = {}\n",
    "        i = 0\n",
    "        while i < (length - 3):\n",
    "            boq_inprocess[f_and_q[i+1]] = f_and_q[i]\n",
    "            i = i + 2\n",
    "            print(boq_inprocess)\n",
    "        #temp_holding = large_flowers\n",
    "        #for i == 0 to <= length:\n",
    "            #print(f_and_q)\n",
    "        \n",
    "        \n",
    "    else:\n",
    "        boq_inprocess = {}\n",
    "        i = 0\n",
    "        while i < (length - 3):\n",
    "            boq_inprocess[f_and_q[i+1]] = f_and_q[i]\n",
    "            i = i + 2\n",
    "            print(boq_inprocess)\n",
    "    \n",
    "    print(f'Boquet name is :- {boq_name}')\n",
    "    print(f'flower size is :- {flower_size}')\n",
    "    print(f'the total number of flowers is :- {total_quant}')\n",
    "    print(f'Length of boquet is {len(boq)}')\n",
    "    print(f'f and q = :-{f_and_q}')"
   ]
  },
  {
   "cell_type": "code",
   "execution_count": null,
   "metadata": {},
   "outputs": [],
   "source": []
  }
 ],
 "metadata": {
  "kernelspec": {
   "display_name": "Python 3",
   "language": "python",
   "name": "python3"
  },
  "language_info": {
   "codemirror_mode": {
    "name": "ipython",
    "version": 3
   },
   "file_extension": ".py",
   "mimetype": "text/x-python",
   "name": "python",
   "nbconvert_exporter": "python",
   "pygments_lexer": "ipython3",
   "version": "3.8.5"
  }
 },
 "nbformat": 4,
 "nbformat_minor": 4
}
