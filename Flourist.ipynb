{
 "cells": [
  {
   "cell_type": "code",
   "execution_count": 4,
   "metadata": {},
   "outputs": [
    {
     "name": "stdout",
     "output_type": "stream",
     "text": [
      "Enter the designs of the Boquet :- AS2a2b3\n",
      "Enter the designs of the Boquet :- BL2a2\n",
      "Enter the designs of the Boquet :- q\n"
     ]
    }
   ],
   "source": [
    "boquet = []\n",
    "i = 'start'\n",
    "while i != 'q':\n",
    "    i = input('Enter the designs of the Boquet :- ')\n",
    "    if i != 'q':\n",
    "        boquet.append(i)"
   ]
  },
  {
   "cell_type": "code",
   "execution_count": 5,
   "metadata": {},
   "outputs": [
    {
     "data": {
      "text/plain": [
       "['AS2a2b3', 'BL2a2']"
      ]
     },
     "execution_count": 5,
     "metadata": {},
     "output_type": "execute_result"
    }
   ],
   "source": [
    "boquet"
   ]
  },
  {
   "cell_type": "code",
   "execution_count": 8,
   "metadata": {},
   "outputs": [],
   "source": [
    "uboquet = set(boquet)   #Will convert the list of boquets to a set thus eliminating repetative boquets"
   ]
  },
  {
   "cell_type": "code",
   "execution_count": 9,
   "metadata": {},
   "outputs": [
    {
     "data": {
      "text/plain": [
       "{'AS2a2b3', 'BL2a2'}"
      ]
     },
     "execution_count": 9,
     "metadata": {},
     "output_type": "execute_result"
    }
   ],
   "source": [
    "uboquet"
   ]
  },
  {
   "cell_type": "code",
   "execution_count": 10,
   "metadata": {},
   "outputs": [],
   "source": [
    "flowers = {}"
   ]
  },
  {
   "cell_type": "code",
   "execution_count": 11,
   "metadata": {},
   "outputs": [
    {
     "name": "stdout",
     "output_type": "stream",
     "text": [
      "Enter the flower and its size : aL\n",
      "Enter the flower and its size : bS\n",
      "Enter the flower and its size : aS\n",
      "Enter the flower and its size : bS\n",
      "Enter the flower and its size : aS\n",
      "Enter the flower and its size : aL\n",
      "Enter the flower and its size : aS\n",
      "Enter the flower and its size : bS\n",
      "Enter the flower and its size : q\n"
     ]
    }
   ],
   "source": [
    "i = 'start'\n",
    "while i != 'q':\n",
    "    i = input('Enter the flower and its size : ')\n",
    "    if i == 'q':\n",
    "        break\n",
    "    if i in flowers.keys():\n",
    "        flowers[i] = flowers[i] + 1\n",
    "    else:\n",
    "        flowers[i] = 1"
   ]
  },
  {
   "cell_type": "code",
   "execution_count": 12,
   "metadata": {},
   "outputs": [
    {
     "data": {
      "text/plain": [
       "{'aL': 2, 'bS': 3, 'aS': 3}"
      ]
     },
     "execution_count": 12,
     "metadata": {},
     "output_type": "execute_result"
    }
   ],
   "source": [
    "flowers"
   ]
  },
  {
   "cell_type": "code",
   "execution_count": 24,
   "metadata": {},
   "outputs": [],
   "source": [
    "small_flowers = {}\n",
    "large_flowers = {}"
   ]
  },
  {
   "cell_type": "code",
   "execution_count": 29,
   "metadata": {},
   "outputs": [],
   "source": [
    "for key in flowers.keys():\n",
    "    if key[1] == 'S':\n",
    "        small_flowers[key[0]] =flowers[key]\n",
    "    elif key[1] == 'L':\n",
    "        large_flowers[key[0]] = flowers[key]\n",
    "    else:\n",
    "        continue"
   ]
  },
  {
   "cell_type": "code",
   "execution_count": 30,
   "metadata": {},
   "outputs": [
    {
     "data": {
      "text/plain": [
       "{'b': 3, 'a': 3}"
      ]
     },
     "execution_count": 30,
     "metadata": {},
     "output_type": "execute_result"
    }
   ],
   "source": [
    "small_flowers"
   ]
  },
  {
   "cell_type": "code",
   "execution_count": 31,
   "metadata": {},
   "outputs": [
    {
     "data": {
      "text/plain": [
       "{'a': 2}"
      ]
     },
     "execution_count": 31,
     "metadata": {},
     "output_type": "execute_result"
    }
   ],
   "source": [
    "large_flowers"
   ]
  },
  {
   "cell_type": "code",
   "execution_count": 32,
   "metadata": {},
   "outputs": [
    {
     "name": "stdout",
     "output_type": "stream",
     "text": [
      "Boquet is generated BL{'a': 2}\n"
     ]
    }
   ],
   "source": [
    "boq_name = ''\n",
    "flower_size = ''\n",
    "total_quant = 0\n",
    "\n",
    "for boq in uboquet:\n",
    "    boq_name = boq[0]\n",
    "    flower_size = boq[1]\n",
    "    total_quant = boq[-1]\n",
    "    length = len(boq)\n",
    "    f_and_q = boq[2:-1]                            #Flowers and Quantity\n",
    "    flowers_added = 0                              #Flowers added in the boquet\n",
    "    boq_gen = False                                #If the boquet is generated\n",
    "    total_type_of_flower = 0                       #Differentt types of flower to be included\n",
    "    \n",
    "    if flower_size == 'L':\n",
    "        temp_flowers = large_flowers\n",
    "        temp_boq = {}\n",
    "        boq_inprocess = {}\n",
    "        i = 0\n",
    "        while i < (length - 3):\n",
    "            boq_inprocess[f_and_q[i+1]] = f_and_q[i]  #Keeping only the type and number of flowers\n",
    "            i = i + 2\n",
    "#            print(boq_inprocess)\n",
    "        for key in boq_inprocess.keys():\n",
    "            total_type_of_flower = total_type_of_flower + 1\n",
    "            if temp_flowers[key] == 0:             #Since all the flowers should be present atleast once if any is \n",
    "                                                   #missing then it cannot be made. \n",
    "                break\n",
    "#            print(boq_inprocess[key])\n",
    "            boq_inprocess[key] = int(boq_inprocess[key]) - 1\n",
    "            temp_flowers[key] = temp_flowers[key] - 1\n",
    "            temp_boq[key] = 1\n",
    "            \n",
    "        total_quant = int(total_quant) - total_type_of_flower  #Since one mandatory flower is included it is subtracted     \n",
    "            \n",
    "        for key in boq_inprocess.keys():\n",
    "            if boq_inprocess[key] != 0:\n",
    "                i = boq_inprocess[key]\n",
    "                while i > 0:\n",
    "                    if temp_flowers[key] >= i and i <= total_quant:\n",
    "                        temp_boq[key] = temp_boq[key] + i\n",
    "                        temp_flowers[key] = temp_flowers[key] - i\n",
    "                        total_quant = total_quant - i\n",
    "                    else:\n",
    "                        i = i - 1\n",
    "                        \n",
    "                if total_quant == 0:\n",
    "                    large_flowers = temp_flowers\n",
    "                    print(f'Boquet is generated {boq_name}{flower_size}{temp_boq}')          \n",
    "        \n",
    "    else:\n",
    "        boq_inprocess = {}\n",
    "        i = 0\n",
    "        while i < (length - 3):\n",
    "            boq_inprocess[f_and_q[i+1]] = f_and_q[i]\n",
    "            i = i + 2\n",
    "#            print(boq_inprocess)\n",
    "    \n",
    "#    print(f'Boquet name is :- {boq_name}')\n",
    "#    print(f'flower size is :- {flower_size}')\n",
    "#    print(f'the total number of flowers is :- {total_quant}')\n",
    "#    print(f'Length of boquet is {len(boq)}')\n",
    "#    print(f'f and q = :-{f_and_q}')"
   ]
  },
  {
   "cell_type": "code",
   "execution_count": null,
   "metadata": {},
   "outputs": [],
   "source": []
  }
 ],
 "metadata": {
  "kernelspec": {
   "display_name": "Python 3",
   "language": "python",
   "name": "python3"
  },
  "language_info": {
   "codemirror_mode": {
    "name": "ipython",
    "version": 3
   },
   "file_extension": ".py",
   "mimetype": "text/x-python",
   "name": "python",
   "nbconvert_exporter": "python",
   "pygments_lexer": "ipython3",
   "version": "3.8.5"
  }
 },
 "nbformat": 4,
 "nbformat_minor": 4
}
